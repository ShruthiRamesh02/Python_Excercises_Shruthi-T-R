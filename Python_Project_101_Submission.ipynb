{
  "nbformat": 4,
  "nbformat_minor": 0,
  "metadata": {
    "colab": {
      "provenance": [],
      "authorship_tag": "ABX9TyMxyyaUIqJ/uZaCB42J37RK",
      "include_colab_link": true
    },
    "kernelspec": {
      "name": "python3",
      "display_name": "Python 3"
    },
    "language_info": {
      "name": "python"
    }
  },
  "cells": [
    {
      "cell_type": "markdown",
      "metadata": {
        "id": "view-in-github",
        "colab_type": "text"
      },
      "source": [
        "<a href=\"https://colab.research.google.com/github/ShruthiRamesh02/Python_Excercises_Shruthi-T-R/blob/main/Python_Project_101_Submission.ipynb\" target=\"_parent\"><img src=\"https://colab.research.google.com/assets/colab-badge.svg\" alt=\"Open In Colab\"/></a>"
      ]
    },
    {
      "cell_type": "code",
      "execution_count": null,
      "metadata": {
        "id": "olPHaniMQ-Py"
      },
      "outputs": [],
      "source": []
    },
    {
      "cell_type": "markdown",
      "source": [
        "ODIN SCHOOL_Python Project 101 Submission_Mandatory Project Submissions"
      ],
      "metadata": {
        "id": "oCsgW-ZFTXdF"
      }
    },
    {
      "cell_type": "markdown",
      "source": [
        "# New section"
      ],
      "metadata": {
        "id": "-F8u51iqUqAW"
      }
    },
    {
      "cell_type": "markdown",
      "source": [
        "Q1: You are working in a bank, and you have been given two lists of the employees who worked in 2021. Employees’ names in list 1 are Ramesh, Suresh, Mahesh, Ali, Jacob, and Saritha. List 2 contains the names of Ali, Mukesh, Mahesh, Jacob, Sai, and Sarita. Please write a program that helps to identify people who are common in both lists. Please do not use any in-built function."
      ],
      "metadata": {
        "id": "19-QcQBtRISA"
      }
    },
    {
      "cell_type": "code",
      "source": [
        "def find_common_employees(list1, list2):\n",
        "    common_employees = []\n",
        "\n",
        "    for employee1 in list1:\n",
        "        for employee2 in list2:\n",
        "            if employee1 == employee2:\n",
        "                common_employees.append(employee1)\n",
        "                break\n",
        "\n",
        "    return common_employees\n",
        "\n",
        "# Given employee lists\n",
        "list1 = [\"Ramesh\", \"Suresh\", \"Mahesh\", \"Ali\", \"Jacob\", \"Saritha\"]\n",
        "list2 = [\"Ali\", \"Mukesh\", \"Mahesh\", \"Jacob\", \"Sai\", \"Sarita\"]\n",
        "\n",
        "common_employees = find_common_employees(list1, list2)\n",
        "print(\"Common employees:\", common_employees)"
      ],
      "metadata": {
        "colab": {
          "base_uri": "https://localhost:8080/"
        },
        "id": "a0zq43FdRCvo",
        "outputId": "91ce7ad3-9eea-4214-8aec-a6bcfc6b466d"
      },
      "execution_count": 1,
      "outputs": [
        {
          "output_type": "stream",
          "name": "stdout",
          "text": [
            "Common employees: ['Mahesh', 'Ali', 'Jacob']\n"
          ]
        }
      ]
    },
    {
      "cell_type": "code",
      "source": [],
      "metadata": {
        "id": "ciRpDFGjRGJt"
      },
      "execution_count": null,
      "outputs": []
    },
    {
      "cell_type": "markdown",
      "source": [
        "Q2: While entering data, someone entered a few names as a common string “Ramesh Suresh Mohit”. Please write a program which separates all the names and converts them into a list. Once converted into a list, please write a program that adds their age.\n",
        "\n",
        "\n",
        "\n",
        "Ramesh:  25\n",
        "\n",
        "Suresh: 22\n",
        "\n",
        "Mohit: 26"
      ],
      "metadata": {
        "id": "29zgoiu5RaGJ"
      }
    },
    {
      "cell_type": "code",
      "source": [
        "# Dictionary containing names as keys and ages as values\n",
        "ages = {\n",
        "    \"Ramesh\": 25,\n",
        "    \"Suresh\": 22,\n",
        "    \"Mohit\": 26\n",
        "}\n",
        "\n",
        "# Common string of names\n",
        "common_names_string = \"Ramesh Suresh Mohit\"\n",
        "\n",
        "# Split the common string into a list of names\n",
        "common_names_list = common_names_string.split()\n",
        "\n",
        "# Initialize total age to 0\n",
        "total_age = 0\n",
        "\n",
        "# Iterate through the list of names and add their ages\n",
        "for name in common_names_list:\n",
        "    if name in ages:\n",
        "        total_age += ages[name]\n",
        "\n",
        "# Print the total age\n",
        "print(\"Total age:\", total_age)"
      ],
      "metadata": {
        "colab": {
          "base_uri": "https://localhost:8080/"
        },
        "id": "d2IBMiUERExZ",
        "outputId": "f8ac9a12-beaa-4030-a8c5-2870caf8a8e9"
      },
      "execution_count": 2,
      "outputs": [
        {
          "output_type": "stream",
          "name": "stdout",
          "text": [
            "Total age: 73\n"
          ]
        }
      ]
    },
    {
      "cell_type": "markdown",
      "source": [
        "Q3: You are working in a medical store. A patient came to your medical store and asked to buy 2 strips of paracetamol, 3 strips of azithromycin, and 5 strips of Vitamin C. One strip of paracetamol costs Rs 35, one strip of azithromycin costs Rs 49, and one strip of vitamin c costs Rs. 33. Patient gave you Rs 2000. Please tell us what is the total cost of each medicine, the total cost of all medicine, and how much money you refunded to the patient."
      ],
      "metadata": {
        "id": "R7TDzhzURnfA"
      }
    },
    {
      "cell_type": "code",
      "source": [
        "# Prices of each medicine\n",
        "price_paracetamol = 35\n",
        "price_azithromycin = 49\n",
        "price_vitamin_c = 33\n",
        "\n",
        "# Quantities requested by the patient\n",
        "quantity_paracetamol = 2\n",
        "quantity_azithromycin = 3\n",
        "quantity_vitamin_c = 5\n",
        "\n",
        "# Total cost of each medicine\n",
        "total_cost_paracetamol = price_paracetamol * quantity_paracetamol\n",
        "total_cost_azithromycin = price_azithromycin * quantity_azithromycin\n",
        "total_cost_vitamin_c = price_vitamin_c * quantity_vitamin_c\n",
        "\n",
        "# Total cost of all medicine\n",
        "total_cost_all_medicine = total_cost_paracetamol + total_cost_azithromycin + total_cost_vitamin_c\n",
        "\n",
        "# Amount paid by the patient\n",
        "amount_paid = 2000\n",
        "\n",
        "# Calculate the refund amount\n",
        "refund_amount = amount_paid - total_cost_all_medicine\n",
        "\n",
        "# Print the results\n",
        "print(\"Total cost of Paracetamol:\", total_cost_paracetamol)\n",
        "print(\"Total cost of Azithromycin:\", total_cost_azithromycin)\n",
        "print(\"Total cost of Vitamin C:\", total_cost_vitamin_c)\n",
        "print(\"Total cost of all medicine:\", total_cost_all_medicine)\n",
        "print(\"Refund amount:\", refund_amount)"
      ],
      "metadata": {
        "colab": {
          "base_uri": "https://localhost:8080/"
        },
        "id": "hztPcc3gRr0F",
        "outputId": "b38250b0-160a-4977-a5da-91c40e38c2f6"
      },
      "execution_count": 3,
      "outputs": [
        {
          "output_type": "stream",
          "name": "stdout",
          "text": [
            "Total cost of Paracetamol: 70\n",
            "Total cost of Azithromycin: 147\n",
            "Total cost of Vitamin C: 165\n",
            "Total cost of all medicine: 382\n",
            "Refund amount: 1618\n"
          ]
        }
      ]
    },
    {
      "cell_type": "markdown",
      "source": [
        "Q4: Accept a sentence as input and find the number of vowels in it. Assume that the sentence has no punctuation marks. For example, I am learning python contains 6 vowels. This function should be applicable for all other different sentences.\n",
        "\n"
      ],
      "metadata": {
        "id": "_KQd-JFDR4tY"
      }
    },
    {
      "cell_type": "code",
      "source": [
        "def count_vowels(sentence):\n",
        "    vowels = \"aeiouAEIOU\"  # List of vowel characters\n",
        "    vowel_count = 0\n",
        "\n",
        "    for char in sentence:\n",
        "        if char in vowels:\n",
        "            vowel_count += 1\n",
        "\n",
        "    return vowel_count\n",
        "\n",
        "# Accept a sentence as input\n",
        "input_sentence = input(\"Enter a sentence: \")\n",
        "\n",
        "# Calculate the number of vowels\n",
        "num_vowels = count_vowels(input_sentence)\n",
        "\n",
        "# Print the result\n",
        "print(\"Number of vowels:\", num_vowels)"
      ],
      "metadata": {
        "colab": {
          "base_uri": "https://localhost:8080/"
        },
        "id": "DP3IcxPlSBvb",
        "outputId": "39537453-69da-4719-fbfd-b872d40c0cc9"
      },
      "execution_count": 4,
      "outputs": [
        {
          "output_type": "stream",
          "name": "stdout",
          "text": [
            "Enter a sentence: a\n",
            "Number of vowels: 1\n"
          ]
        }
      ]
    },
    {
      "cell_type": "markdown",
      "source": [
        "Q5: You have been appointed by the election commission to create a website. Your first task is to work on a program which tells candidates if they are eligible for voting or not. If they are eligible, your output should be ‘Congrats! You are eligible’; otherwise, it should tell that you have to return after X number of years. The eligibility criteria for voting is 18 years.\n",
        "\n",
        "\n",
        "\n",
        "For example, If someone is 18 or above, your output should be ‘Congrats! You are eligible’. If someone’s age is 15 years, it should print output as ‘return after 3 years’.   \n",
        "\n"
      ],
      "metadata": {
        "id": "Fm-ZpU8CSMOC"
      }
    },
    {
      "cell_type": "code",
      "source": [
        "def check_voting_eligibility(age):\n",
        "    if age >= 18:\n",
        "        return \"Congrats! You are eligible\"\n",
        "    else:\n",
        "        years_to_wait = 18 - age\n",
        "        return f\"Return after {years_to_wait} years\"\n",
        "\n",
        "# Accept candidate's age as input\n",
        "candidate_age = int(input(\"Enter your age: \"))\n",
        "\n",
        "# Check eligibility and print the result\n",
        "result = check_voting_eligibility(candidate_age)\n",
        "print(result)"
      ],
      "metadata": {
        "colab": {
          "base_uri": "https://localhost:8080/"
        },
        "id": "t2RD0QQ3SQT7",
        "outputId": "d77a0194-a8cb-4c27-8383-9aec38cf24af"
      },
      "execution_count": 5,
      "outputs": [
        {
          "output_type": "stream",
          "name": "stdout",
          "text": [
            "Enter your age: 32\n",
            "Congrats! You are eligible\n"
          ]
        }
      ]
    },
    {
      "cell_type": "markdown",
      "source": [
        "Q6: Given a list of integers, find the cumulative sum of the elements of the list and store them in another list.\n",
        "\n",
        "\n",
        "\n",
        "A = [1, 2, 3, 4, 5]\n",
        "\n",
        "\n",
        "\n",
        "Output:\n",
        "\n",
        "[1, 3, 6, 10, 15]"
      ],
      "metadata": {
        "id": "YjKmMNz4Shls"
      }
    },
    {
      "cell_type": "code",
      "source": [
        "def calculate_cumulative_sum(input_list):\n",
        "    cumulative_sum = []\n",
        "    total = 0\n",
        "\n",
        "    for num in input_list:\n",
        "        total += num\n",
        "        cumulative_sum.append(total)\n",
        "\n",
        "    return cumulative_sum\n",
        "\n",
        "# Given list of integers\n",
        "A = [1, 2, 3, 4, 5]\n",
        "\n",
        "# Calculate cumulative sum\n",
        "cumulative_result = calculate_cumulative_sum(A)\n",
        "\n",
        "# Print the output\n",
        "print(cumulative_result)"
      ],
      "metadata": {
        "colab": {
          "base_uri": "https://localhost:8080/"
        },
        "id": "Rwv6slYzSkgQ",
        "outputId": "c24c0472-1d9a-4d5f-d6f9-8b2c88174ef9"
      },
      "execution_count": 6,
      "outputs": [
        {
          "output_type": "stream",
          "name": "stdout",
          "text": [
            "[1, 3, 6, 10, 15]\n"
          ]
        }
      ]
    },
    {
      "cell_type": "markdown",
      "source": [
        "Q7:WAP to encode a message entered by user as per below conditions:\n",
        "\n",
        "\n",
        "\n",
        "for every word in the sentence,\n",
        "\n",
        "1. If the word starts with a vowel, encode it as the first and last letter of the word.\n",
        "\n",
        "2. If the word starts with a consonant, remove all vowels from it.\n",
        "\n",
        "\n",
        "\n",
        "Ensure the case insensitive comparisons/checks are performed.\n",
        "\n",
        "\n",
        "\n",
        "Please enter your text:The quick brown fox used to sleep inside this box\n",
        "\n",
        "Encoded Msg: Th qck brwn fx ud t slp ie ths bx"
      ],
      "metadata": {
        "id": "sKDsmxfqSrYk"
      }
    },
    {
      "cell_type": "code",
      "source": [
        "def encode_word(word):\n",
        "    vowels = \"aeiouAEIOU\"\n",
        "\n",
        "    if word[0] in vowels:\n",
        "        return word[0] + word[-1]\n",
        "    else:\n",
        "        return ''.join(char for char in word if char.lower() not in vowels)\n",
        "\n",
        "# Accept the user's input\n",
        "user_text = input(\"Please enter your text: \")\n",
        "\n",
        "# Split the input text into words\n",
        "words = user_text.split()\n",
        "\n",
        "# Encode each word and create the encoded message\n",
        "encoded_message = [encode_word(word) for word in words]\n",
        "\n",
        "# Join the encoded words to form the final message\n",
        "encoded_msg = ' '.join(encoded_message)\n",
        "\n",
        "# Print the encoded message\n",
        "print(\"Encoded Msg:\", encoded_msg)"
      ],
      "metadata": {
        "colab": {
          "base_uri": "https://localhost:8080/"
        },
        "id": "GDV-htLmSx1d",
        "outputId": "5be83c13-be89-4b7d-e623-f5aec0947c5d"
      },
      "execution_count": 7,
      "outputs": [
        {
          "output_type": "stream",
          "name": "stdout",
          "text": [
            "Please enter your text: hello my name is shruthi\n",
            "Encoded Msg: hll my nm is shrth\n"
          ]
        }
      ]
    },
    {
      "cell_type": "markdown",
      "source": [
        "Q8:Write a program to implement run length encoding of a string\n",
        "\n",
        "\n",
        "\n",
        "RLE:Consecutive repetition of a character has to be replaced with the count of occurrences and the character.\n",
        "\n",
        "\n",
        "\n",
        "Enter your string :aabbbccdddae\n",
        "\n",
        "Encoded: 2a3b2c3d1a1e"
      ],
      "metadata": {
        "id": "e_DrZoyvTHXY"
      }
    },
    {
      "cell_type": "code",
      "source": [
        "def run_length_encode(input_string):\n",
        "    encoded_string = \"\"\n",
        "    count = 1\n",
        "\n",
        "    for i in range(1, len(input_string)):\n",
        "        if input_string[i] == input_string[i - 1]:\n",
        "            count += 1\n",
        "        else:\n",
        "            encoded_string += str(count) + input_string[i - 1]\n",
        "            count = 1\n",
        "\n",
        "    encoded_string += str(count) + input_string[-1]  # Handle the last character\n",
        "\n",
        "    return encoded_string\n",
        "\n",
        "# Accept user input\n",
        "user_string = input(\"Enter your string: \")\n",
        "\n",
        "# Encode the string using run-length encoding\n",
        "encoded_result = run_length_encode(user_string)\n",
        "\n",
        "# Print the encoded result\n",
        "print(\"Encoded:\", encoded_result)"
      ],
      "metadata": {
        "colab": {
          "base_uri": "https://localhost:8080/"
        },
        "id": "GlH9z48mTLS0",
        "outputId": "ba078582-3569-4a00-ae32-dc45c85a99c8"
      },
      "execution_count": 8,
      "outputs": [
        {
          "output_type": "stream",
          "name": "stdout",
          "text": [
            "Enter your string: \"shruthi\"\n",
            "Encoded: 1\"1s1h1r1u1t1h1i1\"\n"
          ]
        }
      ]
    }
  ]
}